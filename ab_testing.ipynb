{
  "nbformat": 4,
  "nbformat_minor": 0,
  "metadata": {
    "colab": {
      "provenance": []
    },
    "kernelspec": {
      "name": "ir",
      "display_name": "R"
    },
    "language_info": {
      "name": "R"
    }
  },
  "cells": [
    {
      "cell_type": "code",
      "execution_count": null,
      "metadata": {
        "colab": {
          "base_uri": "https://localhost:8080/"
        },
        "id": "xEuum8y0ezsx",
        "outputId": "e1a5d435-43fe-4fe4-846d-c1ad1a5d7abe"
      },
      "outputs": [
        {
          "output_type": "stream",
          "name": "stderr",
          "text": [
            "Warning message in system(\"timedatectl\", intern = TRUE):\n",
            "“running command 'timedatectl' had status 1”\n",
            "── \u001b[1mAttaching packages\u001b[22m ─────────────────────────────────────── tidyverse 1.3.1 ──\n",
            "\n",
            "\u001b[32m✔\u001b[39m \u001b[34mggplot2\u001b[39m 3.4.1     \u001b[32m✔\u001b[39m \u001b[34mpurrr  \u001b[39m 1.0.1\n",
            "\u001b[32m✔\u001b[39m \u001b[34mtibble \u001b[39m 3.1.8     \u001b[32m✔\u001b[39m \u001b[34mdplyr  \u001b[39m 1.1.0\n",
            "\u001b[32m✔\u001b[39m \u001b[34mtidyr  \u001b[39m 1.3.0     \u001b[32m✔\u001b[39m \u001b[34mstringr\u001b[39m 1.4.1\n",
            "\u001b[32m✔\u001b[39m \u001b[34mreadr  \u001b[39m 2.1.4     \u001b[32m✔\u001b[39m \u001b[34mforcats\u001b[39m 1.0.0\n",
            "\n",
            "── \u001b[1mConflicts\u001b[22m ────────────────────────────────────────── tidyverse_conflicts() ──\n",
            "\u001b[31m✖\u001b[39m \u001b[34mdplyr\u001b[39m::\u001b[32mfilter()\u001b[39m masks \u001b[34mstats\u001b[39m::filter()\n",
            "\u001b[31m✖\u001b[39m \u001b[34mdplyr\u001b[39m::\u001b[32mlag()\u001b[39m    masks \u001b[34mstats\u001b[39m::lag()\n",
            "\n"
          ]
        }
      ],
      "source": [
        "library(tidyverse)"
      ]
    },
    {
      "cell_type": "markdown",
      "source": [
        "## A/B Testing\n",
        "\n",
        "\n",
        "---\n",
        "\n"
      ],
      "metadata": {
        "id": "NG-Kyu2ICpUK"
      }
    },
    {
      "cell_type": "markdown",
      "source": [
        "A/B testing consists of comparing two versions of something to determine which one performs better. This could mean comparing two web pages, emails, marketing campaigns, or product design.\n",
        "\n",
        "In A/B testing, the two versions, known as variant A and variant B, are presented to two different customer groups at the same time. To check whether A performs better than B or vice-versa, measures such as clicks, conversions, time spent on the web page, or the number of bought products can be used.\n",
        "\n",
        "In this notebook, we will take a look at a data problem and compare two statistical approaches: frequentist and bayesian."
      ],
      "metadata": {
        "id": "xM7NaulHDpNb"
      }
    },
    {
      "cell_type": "markdown",
      "source": [
        "## Data problem\n",
        "\n",
        "\n",
        "---\n",
        "\n"
      ],
      "metadata": {
        "id": "RMT9oS9bHYhM"
      }
    },
    {
      "cell_type": "markdown",
      "source": [
        "The Marketing team of our company ran an A/B test and wants to know if the new variant of ads has higher clickthrough rates (CTR).\n"
      ],
      "metadata": {
        "id": "EYiRV9zmHdnV"
      }
    },
    {
      "cell_type": "markdown",
      "source": [
        "## Our data\n",
        "\n",
        "\n",
        "---\n",
        "\n"
      ],
      "metadata": {
        "id": "YA9VGPcZI3_K"
      }
    },
    {
      "cell_type": "markdown",
      "source": [
        "To simulate the click data of both the variant A (current ads) and variant B (new ads), I created two vectors **a** and **b** with 100 entries each. \n",
        "\n",
        "Let's assume the following:\n",
        "- Variant A: 100 entries, 15% CTR. \n",
        "- Variant B: 100 entries, 20% CTR.\n",
        "\n",
        "In the code bellow we can have a look on the creation of the two vectors and the proportion of the clicks in each variant."
      ],
      "metadata": {
        "id": "S3sKm-uGJGCk"
      }
    },
    {
      "cell_type": "code",
      "source": [
        "# This sets the random seed for reproducibility\n",
        "set.seed(0)"
      ],
      "metadata": {
        "id": "wUaEa0hef9zM"
      },
      "execution_count": null,
      "outputs": []
    },
    {
      "cell_type": "code",
      "source": [
        "# Create my A and B vectors of 100 entries each\n",
        "a <- sample(c(0, 1), size = 100, replace = TRUE, prob = c(0.85, 0.15))\n",
        "b <- sample(c(0, 1), size = 100, replace = TRUE, prob = c(0.80, 0.2))"
      ],
      "metadata": {
        "id": "UaIZqw8Ae6SA"
      },
      "execution_count": null,
      "outputs": []
    },
    {
      "cell_type": "code",
      "source": [
        "par(mfrow = c(1, 2))\n",
        "\n",
        "barplot(prop.table(table(a)), col=c(\"gray\", \" dark blue\"),\n",
        "        main=\"CTR\", \n",
        "        xlab=\"Variant A\", ylab=\"Count\")\n",
        "\n",
        "barplot(prop.table(table(b)), col=c(\"gray\", \"dark blue\"),\n",
        "        main=\"CTR\", \n",
        "        xlab=\"Variant B\", ylab=\"Count\")"
      ],
      "metadata": {
        "colab": {
          "base_uri": "https://localhost:8080/",
          "height": 437
        },
        "id": "cqV4ZgRZAvdK",
        "outputId": "29e7f426-f236-4ec7-f940-eb8093890615"
      },
      "execution_count": null,
      "outputs": [
        {
          "output_type": "display_data",
          "data": {
            "text/plain": [
              "Plot with title “CTR”"
            ],
            "image/png": "[encoded data removed]"
          },
          "metadata": {
            "image/png": {
              "width": 420,
              "height": 420
            }
          }
        }
      ]
    },
    {
      "cell_type": "markdown",
      "source": [
        "## Frequentist approach\n",
        "\n",
        "\n",
        "---\n",
        "\n"
      ],
      "metadata": {
        "id": "edSzRMtBubUx"
      }
    },
    {
      "cell_type": "markdown",
      "source": [
        "In the frequentist approach, we will perform a Fisher’s exact test to check whether the difference in CTR of both variants is statistically significant. \n",
        "\n",
        "Our null hypothesis is that there are no differences between variants A and B.\n",
        "\n",
        "With Fisher’s exact test and a p-value >= 0.05, we fail to reject the null hypothesis."
      ],
      "metadata": {
        "id": "0YpvxH4ZLS7q"
      }
    },
    {
      "cell_type": "code",
      "source": [
        "fisher.test(table(a, b))"
      ],
      "metadata": {
        "colab": {
          "base_uri": "https://localhost:8080/",
          "height": 208
        },
        "id": "_jHpXvXNuTDY",
        "outputId": "6a6122c9-b916-4499-ff2e-e4f7c02fd82f"
      },
      "execution_count": null,
      "outputs": [
        {
          "output_type": "display_data",
          "data": {
            "text/plain": [
              "\n",
              "\tFisher's Exact Test for Count Data\n",
              "\n",
              "data:  table(a, b)\n",
              "p-value = 0.1247\n",
              "alternative hypothesis: true odds ratio is not equal to 1\n",
              "95 percent confidence interval:\n",
              "  0.6957917 12.3637166\n",
              "sample estimates:\n",
              "odds ratio \n",
              "  3.074818 \n"
            ]
          },
          "metadata": {}
        }
      ]
    },
    {
      "cell_type": "markdown",
      "source": [
        "However, even if the test returned a p-value < 0.05, we would still face two challenges related to the frequentist approach:\n",
        "\n",
        "- Null hypothesis tests and p-values are hard to understand and hard to explain. There are arbitrary thresholds (0.05?), and the results are binary – you can either reject the null hypothesis or fail to reject the null hypothesis.\n",
        "\n",
        "- P-value tells only how often you see current results purely by chance. It is often misunderstood as a probability of better performance. Confidence intervals also do not directly answer 95% probability of revenue/CTR/CVR in a range.\n",
        "\n",
        "So let's check the Bayesian approach."
      ],
      "metadata": {
        "id": "jX_Tl-ALMeOY"
      }
    },
    {
      "cell_type": "markdown",
      "source": [
        "## Bayesian approach"
      ],
      "metadata": {
        "id": "EhoB6te3uPsU"
      }
    },
    {
      "cell_type": "markdown",
      "source": [
        "Following the bayesian approach, let’s use a Beta distribution to model the behavior of variants A and B successes (clicks) and have a look on the plot of these distributions:"
      ],
      "metadata": {
        "id": "nuy7F6hKNSVS"
      }
    },
    {
      "cell_type": "code",
      "source": [
        "# Define the x values for the Beta distributions\n",
        "x <- seq(0, 1, length.out = 100)\n",
        "\n",
        "# Generate the Beta distribution of A and B\n",
        "beta_dist_a <- dbeta(x, sum(a) + 1, length(a) - sum(a) + 1)\n",
        "beta_dist_b <- dbeta(x, sum(b) + 1, length(b) - sum(b) + 1)\n",
        "\n",
        "# Plot the Beta distribution of A and B\n",
        "plot(x, beta_dist_a, type = \"l\", \n",
        "    main = \"Beta Distribution of A and B CTRs\",\n",
        "    xlab='CTR', ylab='Density')|\n",
        "lines(x, beta_dist_b, col = \"blue\")\n",
        "\n",
        "legend(\"topright\", legend = c(\"A\", \"B\"),\n",
        "       col = c(\"black\", \"blue\"), lty = 1)"
      ],
      "metadata": {
        "colab": {
          "base_uri": "https://localhost:8080/",
          "height": 437
        },
        "id": "-6T6b5i9glgs",
        "outputId": "8a197b59-896c-46fe-c265-bb6a675daa53"
      },
      "execution_count": null,
      "outputs": [
        {
          "output_type": "display_data",
          "data": {
            "text/html": [],
            "text/markdown": "",
            "text/latex": "",
            "text/plain": [
              "logical(0)"
            ]
          },
          "metadata": {}
        },
        {
          "output_type": "display_data",
          "data": {
            "text/plain": [
              "Plot with title “Beta Distribution of A and B CTRs”"
            ],
            "image/png": "[encoded data removed]"
          },
          "metadata": {
            "image/png": {
              "width": 420,
              "height": 420
            }
          }
        }
      ]
    },
    {
      "cell_type": "markdown",
      "source": [
        "Let's also print the credible interval for both distribuitions:"
      ],
      "metadata": {
        "id": "MngNQw-sskEu"
      }
    },
    {
      "cell_type": "code",
      "source": [
        "# Calculate the parameters of the beta distribution\n",
        "alpha_a <- sum(a) + 1\n",
        "beta_a <- length(a) - sum(a) + 1\n",
        "\n",
        "alpha_b <- sum(b) + 1\n",
        "beta_b <- length(b) - sum(b) + 1\n",
        "\n",
        "# Calculate the 95% credible interval\n",
        "cred_int_a <- qbeta(c(0.025, 0.975), alpha_a, beta_a)\n",
        "cred_int_b <- qbeta(c(0.025, 0.975), alpha_b, beta_b)\n",
        "\n",
        "# Print the credible interval\n",
        "print(paste(\"Credible interval A:\", cred_int_a[1], cred_int_a[2]))\n",
        "print(paste(\"Credible interval B:\", cred_int_b[1], cred_int_b[2]))"
      ],
      "metadata": {
        "colab": {
          "base_uri": "https://localhost:8080/"
        },
        "id": "g4MK6JMJmE7q",
        "outputId": "e7a6125b-255e-44a5-9a7e-b1580929e980"
      },
      "execution_count": null,
      "outputs": [
        {
          "output_type": "stream",
          "name": "stdout",
          "text": [
            "[1] \"Credible interval A: 0.0855723288387756 0.22162268958861\"\n",
            "[1] \"Credible interval B: 0.117227556982475 0.26695773995766\"\n"
          ]
        }
      ]
    },
    {
      "cell_type": "markdown",
      "source": [
        "All right! It seems like variant B has a distribuition more to the right of variant A's distribuition. We can see that in the plot and also by checking the 95% credible intervals. But there is also an overlap between the two distribuitions.\n",
        "\n",
        "Next step would be to ask the question: if variant B performs better then variant A, what is the chance of variant B beating variant A? Or, to use other words, if you randomly draw a sample for variant A and for variant B, what are the chances that sample from B would perform better than A?\n",
        "\n",
        "To calculate the chance of beating, we will calculate the posterior distribution of the difference between B and A, and use the **mean()** function to get the proportion of cases where B is greater then A:\n"
      ],
      "metadata": {
        "id": "R2Vy3zt3shn7"
      }
    },
    {
      "cell_type": "code",
      "source": [
        "# Calculate the posterior distribution of the difference between B and A\n",
        "diff_ab <- beta_dist_b - beta_dist_a\n",
        "\n",
        "# Calculate the probability that B is greater than A\n",
        "prob_b_beats_a <- mean(diff_ab > 0)\n",
        "\n",
        "# Print the probability that B beats A\n",
        "prob_b_beats_a"
      ],
      "metadata": {
        "colab": {
          "base_uri": "https://localhost:8080/",
          "height": 34
        },
        "id": "_MYnxPX7piV5",
        "outputId": "6d0e8bec-1902-46db-dca3-39e0ecc8fb3f"
      },
      "execution_count": null,
      "outputs": [
        {
          "output_type": "display_data",
          "data": {
            "text/html": [
              "0.82"
            ],
            "text/markdown": "0.82",
            "text/latex": "0.82",
            "text/plain": [
              "[1] 0.82"
            ]
          },
          "metadata": {}
        }
      ]
    },
    {
      "cell_type": "markdown",
      "source": [
        "We got to 82% of chance of B beating A. \n",
        "\n",
        "Therefore, we can respond to the Marketing team stating that variant B performs better than variant A and that variant B should now reach all users."
      ],
      "metadata": {
        "id": "KSsSRQxOwI7l"
      }
    },
    {
      "cell_type": "markdown",
      "source": [
        "## Conclusions\n",
        "\n",
        "---"
      ],
      "metadata": {
        "id": "cQjSp7L7yrBU"
      }
    },
    {
      "cell_type": "markdown",
      "source": [
        "This notebook simulated an A/B testing situation where the Marketing team wants to know if a new variant of ads performs better than the current one. The present analysis also takes a chance to compare the frequentist and Bayesian approaches.\n",
        "\n",
        "Thus, the first step was to take the frequentist approach with Fisher’s exact test. The results didn’t provide evidence of differences in the variants’ performances.\n",
        "\n",
        "Moving to the Bayesian approach, the plot of both variants’ distributions shows that the new ads variant distribution is more to the right of the current ads variant. The results also show that the latest variant of ads has an 82% chance of beating the current one.\n",
        "\n",
        "Therefore, the new variant of ads performs better than the current one, and the Marketing team can now adopt it to all users."
      ],
      "metadata": {
        "id": "P--sHvqTzHi9"
      }
    },
    {
      "cell_type": "markdown",
      "source": [
        "## References\n",
        "\n",
        "[1] https://www.moengage.com/blog/understanding-bayesian-ab-testing-analyze-experiment-results/\n",
        "\n",
        "[2] https://medium.com/bitgrit-data-science-publication/a-b-testing-explained-1e61a2d1670e\n",
        "\n",
        "[3] https://www.convert.com/blog/a-b-testing/bayesian-statistics-primer-for-ab-testing/"
      ],
      "metadata": {
        "id": "YmGPnd5_yxXO"
      }
    }
  ]
}